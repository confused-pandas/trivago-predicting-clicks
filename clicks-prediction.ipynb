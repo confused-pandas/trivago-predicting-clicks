{
 "cells": [
  {
   "cell_type": "markdown",
   "metadata": {},
   "source": [
    "# Introduction"
   ]
  },
  {
   "cell_type": "markdown",
   "metadata": {},
   "source": [
    "#### Imports\n",
    "\n",
    "Imports and settings."
   ]
  },
  {
   "cell_type": "code",
   "execution_count": 1,
   "metadata": {},
   "outputs": [],
   "source": [
    "import numpy as np\n",
    "import pandas as pd\n",
    "import matplotlib.pyplot as plt\n",
    "import seaborn as sns\n",
    "\n",
    "pd.options.mode.chained_assignment = None"
   ]
  },
  {
   "cell_type": "markdown",
   "metadata": {},
   "source": [
    "# Table of Content"
   ]
  },
  {
   "cell_type": "markdown",
   "metadata": {},
   "source": [
    "1. [Summary information](#summ)\n",
    "2. [Data preprocessing](#prep)\n",
    "3. [Exploratory data analysis](#eda)\n",
    "4. [Prediction](#pred)\n",
    "5. [Evaluation](#eval)\n",
    "6. [Conclusion](#conc)"
   ]
  },
  {
   "cell_type": "markdown",
   "metadata": {},
   "source": [
    "## 1. Summary information\n",
    "<a id=\"summ\"></a>"
   ]
  },
  {
   "cell_type": "code",
   "execution_count": 2,
   "metadata": {},
   "outputs": [],
   "source": [
    "train = pd.read_csv('datasets/train_set.csv')\n",
    "test = pd.read_csv('datasets/test_set.csv')"
   ]
  },
  {
   "cell_type": "code",
   "execution_count": 3,
   "metadata": {},
   "outputs": [
    {
     "data": {
      "text/html": [
       "<div>\n",
       "<style scoped>\n",
       "    .dataframe tbody tr th:only-of-type {\n",
       "        vertical-align: middle;\n",
       "    }\n",
       "\n",
       "    .dataframe tbody tr th {\n",
       "        vertical-align: top;\n",
       "    }\n",
       "\n",
       "    .dataframe thead th {\n",
       "        text-align: right;\n",
       "    }\n",
       "</style>\n",
       "<table border=\"1\" class=\"dataframe\">\n",
       "  <thead>\n",
       "    <tr style=\"text-align: right;\">\n",
       "      <th></th>\n",
       "      <th>hotel_id</th>\n",
       "      <th>city_id</th>\n",
       "      <th>content_score</th>\n",
       "      <th>n_images</th>\n",
       "      <th>distance_to_center</th>\n",
       "      <th>avg_rating</th>\n",
       "      <th>stars</th>\n",
       "      <th>n_reviews</th>\n",
       "      <th>avg_rank</th>\n",
       "      <th>avg_price</th>\n",
       "      <th>avg_saving_percent</th>\n",
       "      <th>n_clicks</th>\n",
       "    </tr>\n",
       "  </thead>\n",
       "  <tbody>\n",
       "    <tr>\n",
       "      <th>0</th>\n",
       "      <td>9.767406e+10</td>\n",
       "      <td>134520.0</td>\n",
       "      <td>70.0</td>\n",
       "      <td>2.0</td>\n",
       "      <td>1199.0</td>\n",
       "      <td>77.0</td>\n",
       "      <td>4.0</td>\n",
       "      <td>861.0</td>\n",
       "      <td>17.550</td>\n",
       "      <td>81.64</td>\n",
       "      <td>18.0</td>\n",
       "      <td>0</td>\n",
       "    </tr>\n",
       "    <tr>\n",
       "      <th>1</th>\n",
       "      <td>9.768889e+10</td>\n",
       "      <td>133876.0</td>\n",
       "      <td>67.0</td>\n",
       "      <td>3.0</td>\n",
       "      <td>12585.0</td>\n",
       "      <td>90.0</td>\n",
       "      <td>4.0</td>\n",
       "      <td>4371.0</td>\n",
       "      <td>17.383</td>\n",
       "      <td>189.38</td>\n",
       "      <td>28.0</td>\n",
       "      <td>4</td>\n",
       "    </tr>\n",
       "  </tbody>\n",
       "</table>\n",
       "</div>"
      ],
      "text/plain": [
       "       hotel_id   city_id  content_score  n_images  distance_to_center  \\\n",
       "0  9.767406e+10  134520.0           70.0       2.0              1199.0   \n",
       "1  9.768889e+10  133876.0           67.0       3.0             12585.0   \n",
       "\n",
       "   avg_rating  stars  n_reviews  avg_rank  avg_price  avg_saving_percent  \\\n",
       "0        77.0    4.0      861.0    17.550      81.64                18.0   \n",
       "1        90.0    4.0     4371.0    17.383     189.38                28.0   \n",
       "\n",
       "   n_clicks  \n",
       "0         0  \n",
       "1         4  "
      ]
     },
     "execution_count": 3,
     "metadata": {},
     "output_type": "execute_result"
    }
   ],
   "source": [
    "train.head(2)"
   ]
  },
  {
   "cell_type": "code",
   "execution_count": 4,
   "metadata": {},
   "outputs": [
    {
     "data": {
      "text/html": [
       "<div>\n",
       "<style scoped>\n",
       "    .dataframe tbody tr th:only-of-type {\n",
       "        vertical-align: middle;\n",
       "    }\n",
       "\n",
       "    .dataframe tbody tr th {\n",
       "        vertical-align: top;\n",
       "    }\n",
       "\n",
       "    .dataframe thead th {\n",
       "        text-align: right;\n",
       "    }\n",
       "</style>\n",
       "<table border=\"1\" class=\"dataframe\">\n",
       "  <thead>\n",
       "    <tr style=\"text-align: right;\">\n",
       "      <th></th>\n",
       "      <th>hotel_id</th>\n",
       "      <th>city_id</th>\n",
       "      <th>content_score</th>\n",
       "      <th>n_images</th>\n",
       "      <th>distance_to_center</th>\n",
       "      <th>avg_rating</th>\n",
       "      <th>stars</th>\n",
       "      <th>n_reviews</th>\n",
       "      <th>avg_rank</th>\n",
       "      <th>avg_price</th>\n",
       "      <th>avg_saving_percent</th>\n",
       "    </tr>\n",
       "  </thead>\n",
       "  <tbody>\n",
       "    <tr>\n",
       "      <th>0</th>\n",
       "      <td>14942256073</td>\n",
       "      <td>122750.0</td>\n",
       "      <td>58.0</td>\n",
       "      <td>2.0</td>\n",
       "      <td>11503.0</td>\n",
       "      <td>89.0</td>\n",
       "      <td>0.0</td>\n",
       "      <td>168.0</td>\n",
       "      <td>13.500</td>\n",
       "      <td>90.19</td>\n",
       "      <td>32.0</td>\n",
       "    </tr>\n",
       "    <tr>\n",
       "      <th>1</th>\n",
       "      <td>16036037903</td>\n",
       "      <td>28134.0</td>\n",
       "      <td>68.0</td>\n",
       "      <td>4.0</td>\n",
       "      <td>938.0</td>\n",
       "      <td>81.0</td>\n",
       "      <td>5.0</td>\n",
       "      <td>735.0</td>\n",
       "      <td>13.667</td>\n",
       "      <td>98.27</td>\n",
       "      <td>19.0</td>\n",
       "    </tr>\n",
       "  </tbody>\n",
       "</table>\n",
       "</div>"
      ],
      "text/plain": [
       "      hotel_id   city_id  content_score  n_images  distance_to_center  \\\n",
       "0  14942256073  122750.0           58.0       2.0             11503.0   \n",
       "1  16036037903   28134.0           68.0       4.0               938.0   \n",
       "\n",
       "   avg_rating  stars  n_reviews  avg_rank  avg_price  avg_saving_percent  \n",
       "0        89.0    0.0      168.0    13.500      90.19                32.0  \n",
       "1        81.0    5.0      735.0    13.667      98.27                19.0  "
      ]
     },
     "execution_count": 4,
     "metadata": {},
     "output_type": "execute_result"
    }
   ],
   "source": [
    "test.head(2)"
   ]
  },
  {
   "cell_type": "code",
   "execution_count": 5,
   "metadata": {},
   "outputs": [
    {
     "name": "stdout",
     "output_type": "stream",
     "text": [
      "Number train entries: 396487 , Number test entries: 132162\n"
     ]
    }
   ],
   "source": [
    "print('Number train entries:', len(train), ', Number test entries:', len(test))"
   ]
  },
  {
   "cell_type": "code",
   "execution_count": 6,
   "metadata": {},
   "outputs": [
    {
     "name": "stdout",
     "output_type": "stream",
     "text": [
      "train column names and types:\n",
      "hotel_id              float64\n",
      "city_id               float64\n",
      "content_score         float64\n",
      "n_images              float64\n",
      "distance_to_center    float64\n",
      "avg_rating            float64\n",
      "stars                 float64\n",
      "n_reviews             float64\n",
      "avg_rank              float64\n",
      "avg_price             float64\n",
      "avg_saving_percent    float64\n",
      "n_clicks                int64\n",
      "dtype: object\n",
      "----------------------------\n",
      "test column names and types:\n",
      "hotel_id                int64\n",
      "city_id               float64\n",
      "content_score         float64\n",
      "n_images              float64\n",
      "distance_to_center    float64\n",
      "avg_rating            float64\n",
      "stars                 float64\n",
      "n_reviews             float64\n",
      "avg_rank              float64\n",
      "avg_price             float64\n",
      "avg_saving_percent    float64\n",
      "dtype: object\n"
     ]
    }
   ],
   "source": [
    "print('train column names and types:', train.dtypes, sep='\\n')\n",
    "print('-'*28)\n",
    "print('test column names and types:', test.dtypes, sep='\\n')"
   ]
  },
  {
   "cell_type": "code",
   "execution_count": 7,
   "metadata": {},
   "outputs": [
    {
     "name": "stdout",
     "output_type": "stream",
     "text": [
      "Train data set:  \n",
      "\n",
      "hotel_id              396487\n",
      "city_id               395979\n",
      "content_score         395979\n",
      "n_images              395978\n",
      "distance_to_center    395958\n",
      "avg_rating            286089\n",
      "stars                 395925\n",
      "n_reviews             395958\n",
      "avg_rank              396487\n",
      "avg_price             396317\n",
      "avg_saving_percent    396317\n",
      "n_clicks              396487\n",
      "dtype: int64\n",
      "\n",
      "----------------------------\n",
      "Test data set:  \n",
      "\n",
      "hotel_id              132162\n",
      "city_id               132007\n",
      "content_score         132007\n",
      "n_images              132006\n",
      "distance_to_center    131999\n",
      "avg_rating             95532\n",
      "stars                 131987\n",
      "n_reviews             131999\n",
      "avg_rank              132162\n",
      "avg_price             132104\n",
      "avg_saving_percent    132104\n",
      "dtype: int64\n",
      "\n"
     ]
    }
   ],
   "source": [
    "print('Train data set:  \\n\\n{0}\\n'.format(train.count()))\n",
    "print('-'*28)\n",
    "print('Test data set:  \\n\\n{0}\\n'.format(test.count()))"
   ]
  },
  {
   "cell_type": "code",
   "execution_count": 8,
   "metadata": {},
   "outputs": [
    {
     "name": "stdout",
     "output_type": "stream",
     "text": [
      "Train data set:\n",
      "\n",
      "All entries in train set have non-null hotel_id : True\n",
      "All entries in train set have non-null city_id : False\n",
      "All entries in train set have non-null content_score : False\n",
      "All entries in train set have non-null n_images : False\n",
      "All entries in train set have non-null distance_to_center : False\n",
      "All entries in train set have non-null avg_rating : False\n",
      "All entries in train set have non-null stars : False\n",
      "All entries in train set have non-null n_reviews : False\n",
      "All entries in train set have non-null avg_rank : True\n",
      "All entries in train set have non-null avg_price : False\n",
      "All entries in train set have non-null avg_saving_percent : False\n",
      "All entries in train set have non-null n_clicks : True\n",
      "----------------------------------------------------------------------------------------------------\n",
      "Test data set:\n",
      "\n",
      "All entries in test set have non-null hotel_id : True\n",
      "All entries in test set have non-null city_id : False\n",
      "All entries in test set have non-null content_score : False\n",
      "All entries in test set have non-null n_images : False\n",
      "All entries in test set have non-null distance_to_center : False\n",
      "All entries in test set have non-null avg_rating : False\n",
      "All entries in test set have non-null stars : False\n",
      "All entries in test set have non-null n_reviews : False\n",
      "All entries in test set have non-null avg_rank : True\n",
      "All entries in test set have non-null avg_price : False\n",
      "All entries in test set have non-null avg_saving_percent : False\n"
     ]
    }
   ],
   "source": [
    "train_columns = list(train.columns)\n",
    "print('Train data set:\\n')\n",
    "for column in train_columns:\n",
    "    print('All entries in train set have non-null', column ,':', ~train[column].isnull().any())\n",
    "    \n",
    "print('-'*100)\n",
    "\n",
    "test_columns = list(test.columns)\n",
    "print('Test data set:\\n')\n",
    "for column in test_columns:\n",
    "    print('All entries in test set have non-null', column ,':', ~test[column].isnull().any())"
   ]
  },
  {
   "cell_type": "code",
   "execution_count": 9,
   "metadata": {
    "scrolled": false
   },
   "outputs": [
    {
     "name": "stdout",
     "output_type": "stream",
     "text": [
      "Train data set:\n",
      "\n",
      "Percentage of missing values for feature hotel_id : 0.0 %\n",
      "Percentage of missing values for feature city_id : 0.13 %\n",
      "Percentage of missing values for feature content_score : 0.13 %\n",
      "Percentage of missing values for feature n_images : 0.13 %\n",
      "Percentage of missing values for feature distance_to_center : 0.13 %\n",
      "Percentage of missing values for feature avg_rating : 27.84 %\n",
      "Percentage of missing values for feature stars : 0.14 %\n",
      "Percentage of missing values for feature n_reviews : 0.13 %\n",
      "Percentage of missing values for feature avg_rank : 0.0 %\n",
      "Percentage of missing values for feature avg_price : 0.04 %\n",
      "Percentage of missing values for feature avg_saving_percent : 0.04 %\n",
      "Percentage of missing values for feature n_clicks : 0.0 %\n",
      "----------------------------------------------------------------------------------------------------\n",
      "Test data set:\n",
      "\n",
      "Percentage of missing values for feature hotel_id : 0.0 %\n",
      "Percentage of missing values for feature city_id : 0.12 %\n",
      "Percentage of missing values for feature content_score : 0.12 %\n",
      "Percentage of missing values for feature n_images : 0.12 %\n",
      "Percentage of missing values for feature distance_to_center : 0.12 %\n",
      "Percentage of missing values for feature avg_rating : 27.72 %\n",
      "Percentage of missing values for feature stars : 0.13 %\n",
      "Percentage of missing values for feature n_reviews : 0.12 %\n",
      "Percentage of missing values for feature avg_rank : 0.0 %\n",
      "Percentage of missing values for feature avg_price : 0.04 %\n",
      "Percentage of missing values for feature avg_saving_percent : 0.04 %\n"
     ]
    }
   ],
   "source": [
    "print(\"Train data set:\\n\")\n",
    "for column in train_columns:\n",
    "    print('Percentage of missing values for feature', column ,':', round((train[column].isnull().sum()/len(train))*100, 2), '%')\n",
    "print(\"-\"*100)\n",
    "print(\"Test data set:\\n\")\n",
    "for column in test_columns:\n",
    "    print('Percentage of missing values for feature', column ,':', round((test[column].isnull().sum()/len(test))*100, 2), '%')"
   ]
  },
  {
   "cell_type": "markdown",
   "metadata": {},
   "source": [
    "Globally, there are few missing values per feature. However, the feature **avg_rating** has a big proportion of missing values for both train and test set."
   ]
  },
  {
   "cell_type": "markdown",
   "metadata": {},
   "source": [
    "## 2. Data preprocessing\n",
    "<a id=\"prep\"></a>"
   ]
  },
  {
   "cell_type": "markdown",
   "metadata": {},
   "source": [
    "Before I do the exploratory data analysis, I want to clean my data set with the following approach :\n",
    "\n",
    "1. First I want to detect outliers before I deal with missing values\n",
    "2. I deal with the missing values (should I drop the rows, should I impute the missing values...?) \n",
    "3. Feature engineering"
   ]
  },
  {
   "cell_type": "markdown",
   "metadata": {},
   "source": [
    "### 2.1. Missing values"
   ]
  },
  {
   "cell_type": "code",
   "execution_count": 10,
   "metadata": {},
   "outputs": [],
   "source": [
    "train = train.dropna(subset=['city_id', 'content_score', 'n_images', 'distance_to_center', 'stars', 'n_reviews', 'avg_price', 'avg_saving_percent'])\n",
    "test = test.dropna(subset=['city_id', 'content_score', 'n_images', 'distance_to_center', 'stars', 'n_reviews', 'avg_price', 'avg_saving_percent'])"
   ]
  },
  {
   "cell_type": "code",
   "execution_count": 11,
   "metadata": {
    "scrolled": false
   },
   "outputs": [
    {
     "name": "stdout",
     "output_type": "stream",
     "text": [
      "Train data set:\n",
      "\n",
      "Percentage of missing values for feature hotel_id : 0.0 %\n",
      "Percentage of missing values for feature city_id : 0.0 %\n",
      "Percentage of missing values for feature content_score : 0.0 %\n",
      "Percentage of missing values for feature n_images : 0.0 %\n",
      "Percentage of missing values for feature distance_to_center : 0.0 %\n",
      "Percentage of missing values for feature avg_rating : 27.73 %\n",
      "Percentage of missing values for feature stars : 0.0 %\n",
      "Percentage of missing values for feature n_reviews : 0.0 %\n",
      "Percentage of missing values for feature avg_rank : 0.0 %\n",
      "Percentage of missing values for feature avg_price : 0.0 %\n",
      "Percentage of missing values for feature avg_saving_percent : 0.0 %\n",
      "Percentage of missing values for feature n_clicks : 0.0 %\n",
      "----------------------------------------------------------------------------------------------------\n",
      "Test data set:\n",
      "\n",
      "Percentage of missing values for feature hotel_id : 0.0 %\n",
      "Percentage of missing values for feature city_id : 0.0 %\n",
      "Percentage of missing values for feature content_score : 0.0 %\n",
      "Percentage of missing values for feature n_images : 0.0 %\n",
      "Percentage of missing values for feature distance_to_center : 0.0 %\n",
      "Percentage of missing values for feature avg_rating : 27.6 %\n",
      "Percentage of missing values for feature stars : 0.0 %\n",
      "Percentage of missing values for feature n_reviews : 0.0 %\n",
      "Percentage of missing values for feature avg_rank : 0.0 %\n",
      "Percentage of missing values for feature avg_price : 0.0 %\n",
      "Percentage of missing values for feature avg_saving_percent : 0.0 %\n"
     ]
    }
   ],
   "source": [
    "print(\"Train data set:\\n\")\n",
    "for column in train_columns:\n",
    "    print('Percentage of missing values for feature', column ,':', round((train[column].isnull().sum()/len(train))*100, 2), '%')\n",
    "print(\"-\"*100)\n",
    "print(\"Test data set:\\n\")\n",
    "for column in test_columns:\n",
    "    print('Percentage of missing values for feature', column ,':', round((test[column].isnull().sum()/len(test))*100, 2), '%')"
   ]
  },
  {
   "cell_type": "markdown",
   "metadata": {},
   "source": [
    "Now let's deal with the feature **avg_rating** for which we have ~ 27% of missing values."
   ]
  },
  {
   "cell_type": "code",
   "execution_count": 12,
   "metadata": {},
   "outputs": [
    {
     "name": "stderr",
     "output_type": "stream",
     "text": [
      "C:\\Users\\aghenda\\AppData\\Roaming\\Python\\Python37\\site-packages\\scipy\\stats\\stats.py:1713: FutureWarning: Using a non-tuple sequence for multidimensional indexing is deprecated; use `arr[tuple(seq)]` instead of `arr[seq]`. In the future this will be interpreted as an array index, `arr[np.array(seq)]`, which will result either in an error or a different result.\n",
      "  return np.add.reduce(sorted[indexer] * weights, axis=axis) / sumval\n"
     ]
    },
    {
     "data": {
      "text/plain": [
       "<matplotlib.axes._subplots.AxesSubplot at 0x259530a16a0>"
      ]
     },
     "execution_count": 12,
     "metadata": {},
     "output_type": "execute_result"
    },
    {
     "data": {
      "image/png": "[encoded data removed]",
      "text/plain": [
       "<Figure size 432x288 with 1 Axes>"
      ]
     },
     "metadata": {
      "needs_background": "light"
     },
     "output_type": "display_data"
    }
   ],
   "source": [
    "sns.distplot(train['avg_rating'].dropna())\n",
    "sns.distplot(test['avg_rating'].dropna())"
   ]
  },
  {
   "cell_type": "markdown",
   "metadata": {},
   "source": [
    "The data distribution for the feature **avg_rating** is almost identical for the test set and the train set. Besides, the distribution is relatively close to a normal distribution where mean = median. We could use a median imputation for the missing values. But let's first remove outliers."
   ]
  },
  {
   "cell_type": "markdown",
   "metadata": {},
   "source": [
    "### 2.2. Outliers detection"
   ]
  },
  {
   "cell_type": "markdown",
   "metadata": {},
   "source": [
    "#### 2.2.1. Z-Score"
   ]
  },
  {
   "cell_type": "code",
   "execution_count": 13,
   "metadata": {},
   "outputs": [],
   "source": [
    "def zscore(series, threshold=3):\n",
    "    z_score = (series-np.mean(series)) / np.std(series)\n",
    "    return np.abs(z_score) > threshold"
   ]
  },
  {
   "cell_type": "markdown",
   "metadata": {},
   "source": [
    "#### 2.2.2. Modified Z-Score"
   ]
  },
  {
   "cell_type": "code",
   "execution_count": 14,
   "metadata": {},
   "outputs": [],
   "source": [
    "def modified_zscore(series, threshold=3):\n",
    "    modified_z_score = 0.6745*(series-np.median(series))/series.mad()\n",
    "    return np.abs(modified_z_score) > threshold"
   ]
  },
  {
   "cell_type": "markdown",
   "metadata": {},
   "source": [
    "#### 2.2.3. Isolation Forest"
   ]
  },
  {
   "cell_type": "code",
   "execution_count": 15,
   "metadata": {},
   "outputs": [],
   "source": [
    "from sklearn.ensemble import IsolationForest"
   ]
  },
  {
   "cell_type": "code",
   "execution_count": 16,
   "metadata": {},
   "outputs": [],
   "source": [
    "def isolation_forest(series):\n",
    "    clf = IsolationForest(behaviour='new', contamination='auto', random_state=0)\n",
    "    series = series.values.reshape(-1, 1)\n",
    "    clf.fit(series)\n",
    "    return clf.predict(series)"
   ]
  },
  {
   "cell_type": "markdown",
   "metadata": {},
   "source": [
    "#### Comparing outliers detection techniques"
   ]
  },
  {
   "cell_type": "code",
   "execution_count": 17,
   "metadata": {},
   "outputs": [],
   "source": [
    "def get_proportion(series, inf, sup):\n",
    "    return round((len(series[(series > inf) & (series < sup)]) / len(series))*100, 2)"
   ]
  },
  {
   "cell_type": "code",
   "execution_count": 18,
   "metadata": {},
   "outputs": [],
   "source": [
    "def outlier_print(title, inliers, series):\n",
    "    print('Outlier detection: {} identified outliers outside of the range [{}, {}]. Resulting outlier proportion: {}%.'.format(title, round(min(inliers)), round(max(inliers)), get_proportion(series, max(inliers), max(series)+1)))"
   ]
  },
  {
   "cell_type": "code",
   "execution_count": 19,
   "metadata": {},
   "outputs": [],
   "source": [
    "def outliers_detection(series):\n",
    "    dict_scores = {}\n",
    "    inliers_zscore = series[~zscore(series)]\n",
    "    outlier_print('Z-Score', inliers_zscore, series)\n",
    "    inliers_modified_zscore = series[~modified_zscore(series)]\n",
    "    outlier_print('Modified Z-Score', inliers_modified_zscore, series)\n",
    "    inliers_isolation_forest = series[isolation_forest(series) == 1]\n",
    "    outlier_print('Isolation Forest', inliers_isolation_forest, series)\n",
    "    return mode"
   ]
  },
  {
   "cell_type": "code",
   "execution_count": 20,
   "metadata": {},
   "outputs": [],
   "source": [
    "train_numeric_columns = ['content_score', 'n_images', 'distance_to_center', 'avg_rating', 'n_reviews', 'avg_price', 'avg_saving_percent', 'n_clicks']\n",
    "test_numeric_columns = ['content_score', 'n_images', 'distance_to_center', 'avg_rating', 'n_reviews', 'avg_price', 'avg_saving_percent']"
   ]
  },
  {
   "cell_type": "code",
   "execution_count": 83,
   "metadata": {},
   "outputs": [
    {
     "name": "stdout",
     "output_type": "stream",
     "text": [
      "Train set outliers detection:\n",
      "==============================\n",
      "⚀ Outlier detection for feature content_score :\n",
      "\n",
      "Outlier detection: Z-Score identified outliers outside of the range [17, 81]. Resulting outlier proportion: 0.0%.\n",
      "Outlier detection: Modified Z-Score identified outliers outside of the range [14, 81]. Resulting outlier proportion: 0.0%.\n",
      "Outlier detection: Isolation Forest identified outliers outside of the range [42, 62]. Resulting outlier proportion: 10.04%.\n",
      "------------------------------------------------------------------------------------------------------------------------\n",
      "⚀ Outlier detection for feature n_images :\n",
      "\n",
      "Outlier detection: Z-Score identified outliers outside of the range [-1, 51619]. Resulting outlier proportion: 0.06%.\n",
      "Outlier detection: Modified Z-Score identified outliers outside of the range [-1, 249]. Resulting outlier proportion: 0.07%.\n",
      "Outlier detection: Isolation Forest identified outliers outside of the range [0, 3]. Resulting outlier proportion: 11.9%.\n",
      "------------------------------------------------------------------------------------------------------------------------\n",
      "⚀ Outlier detection for feature distance_to_center :\n",
      "\n",
      "Outlier detection: Z-Score identified outliers outside of the range [0, 840116]. Resulting outlier proportion: 0.26%.\n",
      "Outlier detection: Modified Z-Score identified outliers outside of the range [0, 117004]. Resulting outlier proportion: 1.03%.\n",
      "Outlier detection: Isolation Forest identified outliers outside of the range [0, 10586]. Resulting outlier proportion: 9.14%.\n",
      "------------------------------------------------------------------------------------------------------------------------\n",
      "⚀ Outlier detection for feature avg_rating :\n",
      "\n",
      "Outlier detection: Z-Score identified outliers outside of the range [64, 97]. Resulting outlier proportion: 0.0%.\n",
      "Outlier detection: Modified Z-Score identified outliers outside of the range [63, 97]. Resulting outlier proportion: 0.0%.\n",
      "Outlier detection: Isolation Forest identified outliers outside of the range [77, 88]. Resulting outlier proportion: 8.46%.\n",
      "------------------------------------------------------------------------------------------------------------------------\n",
      "⚀ Outlier detection for feature n_reviews :\n",
      "\n",
      "Outlier detection: Z-Score identified outliers outside of the range [0, 8211]. Resulting outlier proportion: 1.58%.\n",
      "Outlier detection: Modified Z-Score identified outliers outside of the range [0, 5175]. Resulting outlier proportion: 3.73%.\n",
      "Outlier detection: Isolation Forest identified outliers outside of the range [0, 1362]. Resulting outlier proportion: 16.9%.\n",
      "------------------------------------------------------------------------------------------------------------------------\n",
      "⚀ Outlier detection for feature avg_price :\n",
      "\n",
      "Outlier detection: Z-Score identified outliers outside of the range [4, 554]. Resulting outlier proportion: 1.22%.\n",
      "Outlier detection: Modified Z-Score identified outliers outside of the range [4, 377]. Resulting outlier proportion: 2.74%.\n",
      "Outlier detection: Isolation Forest identified outliers outside of the range [22, 183]. Resulting outlier proportion: 11.65%.\n",
      "------------------------------------------------------------------------------------------------------------------------\n",
      "⚀ Outlier detection for feature avg_saving_percent :\n",
      "\n",
      "Outlier detection: Z-Score identified outliers outside of the range [0, 46]. Resulting outlier proportion: 2.24%.\n",
      "Outlier detection: Modified Z-Score identified outliers outside of the range [0, 42]. Resulting outlier proportion: 3.13%.\n",
      "Outlier detection: Isolation Forest identified outliers outside of the range [0, 0]. Resulting outlier proportion: 39.63%.\n",
      "------------------------------------------------------------------------------------------------------------------------\n",
      "⚀ Outlier detection for feature n_clicks :\n",
      "\n",
      "Outlier detection: Z-Score identified outliers outside of the range [0, 384]. Resulting outlier proportion: 0.65%.\n",
      "Outlier detection: Modified Z-Score identified outliers outside of the range [0, 100]. Resulting outlier proportion: 2.37%.\n",
      "Outlier detection: Isolation Forest identified outliers outside of the range [0, 6]. Resulting outlier proportion: 14.38%.\n",
      "------------------------------------------------------------------------------------------------------------------------\n"
     ]
    }
   ],
   "source": [
    "print('Train set outliers detection:')\n",
    "print('='*30)\n",
    "for column in train_numeric_columns:\n",
    "    print('⚀ Outlier detection for feature', column, ':\\n')\n",
    "    outliers_detection(train[column].dropna())\n",
    "    print('-'*120)"
   ]
  },
  {
   "cell_type": "markdown",
   "metadata": {},
   "source": [
    "By definition, if there are too many outliers... they are not outliers. I use the outliers detection technique that is the most permissive : in this case it is Z-Score for every feature. I decide to drop the outliers when the proportion is < 1%."
   ]
  },
  {
   "cell_type": "code",
   "execution_count": 46,
   "metadata": {},
   "outputs": [],
   "source": [
    "def drop_outliers_zscore(df, column):\n",
    "    inliers_zscore = df[column][~zscore(df[column])]\n",
    "    min_inliers = round(min(inliers_zscore))\n",
    "    max_inliers = round(max(inliers_zscore))\n",
    "    outliers_proportion = get_proportion(df[column], max_inliers, max(df[column])+1)\n",
    "    if outliers_proportion < 1:\n",
    "        return df[(df[column] >= min_inliers) & (df[column] <= max_inliers)]\n",
    "    else:\n",
    "        return df"
   ]
  },
  {
   "cell_type": "code",
   "execution_count": 47,
   "metadata": {
    "scrolled": true
   },
   "outputs": [
    {
     "name": "stdout",
     "output_type": "stream",
     "text": [
      "Before outliers removal, train set has 395760 rows.\n"
     ]
    }
   ],
   "source": [
    "print('Before outliers removal, train set has',len(train),'rows.')"
   ]
  },
  {
   "cell_type": "code",
   "execution_count": 48,
   "metadata": {},
   "outputs": [
    {
     "name": "stdout",
     "output_type": "stream",
     "text": [
      "Dropping outliers where outliers proportion < 1% ...\n",
      "After outliers removal, train set has 395760 rows.\n"
     ]
    }
   ],
   "source": [
    "print('Dropping outliers where outliers proportion < 1% ...')\n",
    "for column in train_numeric_columns:\n",
    "    train.merge(drop_outliers_zscore(train, column), how='inner', on='hotel_id')\n",
    "print('After outliers removal, train set has',len(train),'rows.')"
   ]
  },
  {
   "cell_type": "code",
   "execution_count": 293,
   "metadata": {},
   "outputs": [
    {
     "name": "stdout",
     "output_type": "stream",
     "text": [
      "Test set outliers detection:\n",
      "==============================\n",
      "⚀ Outlier detection for feature content_score :\n",
      "\n",
      "Outlier detection: Z-Score identified outliers outside of the range [17, 80]. Resulting outlier proportion: 0.0%.\n",
      "Outlier detection: Modified Z-Score identified outliers outside of the range [14, 80]. Resulting outlier proportion: 0.0%.\n",
      "Outlier detection: Isolation Forest identified outliers outside of the range [42, 62]. Resulting outlier proportion: 10.01%.\n",
      "------------------------------------------------------------------------------------------------------------------------\n",
      "⚀ Outlier detection for feature n_images :\n",
      "\n",
      "Outlier detection: Z-Score identified outliers outside of the range [-1, 62540]. Resulting outlier proportion: 0.06%.\n",
      "Outlier detection: Modified Z-Score identified outliers outside of the range [-1, 56]. Resulting outlier proportion: 0.07%.\n",
      "Outlier detection: Isolation Forest identified outliers outside of the range [0, 3]. Resulting outlier proportion: 11.7%.\n",
      "------------------------------------------------------------------------------------------------------------------------\n",
      "⚀ Outlier detection for feature distance_to_center :\n",
      "\n",
      "Outlier detection: Z-Score identified outliers outside of the range [0, 760558]. Resulting outlier proportion: 0.28%.\n",
      "Outlier detection: Modified Z-Score identified outliers outside of the range [0, 110201]. Resulting outlier proportion: 1.05%.\n",
      "Outlier detection: Isolation Forest identified outliers outside of the range [0, 13039]. Resulting outlier proportion: 7.11%.\n",
      "------------------------------------------------------------------------------------------------------------------------\n",
      "⚀ Outlier detection for feature avg_rating :\n",
      "\n",
      "Outlier detection: Z-Score identified outliers outside of the range [64, 98]. Resulting outlier proportion: 0.0%.\n",
      "Outlier detection: Modified Z-Score identified outliers outside of the range [63, 98]. Resulting outlier proportion: 0.0%.\n",
      "Outlier detection: Isolation Forest identified outliers outside of the range [77, 88]. Resulting outlier proportion: 8.4%.\n",
      "------------------------------------------------------------------------------------------------------------------------\n",
      "⚀ Outlier detection for feature n_reviews :\n",
      "\n",
      "Outlier detection: Z-Score identified outliers outside of the range [0, 8451]. Resulting outlier proportion: 1.45%.\n",
      "Outlier detection: Modified Z-Score identified outliers outside of the range [0, 5112]. Resulting outlier proportion: 3.73%.\n",
      "Outlier detection: Isolation Forest identified outliers outside of the range [0, 984]. Resulting outlier proportion: 21.07%.\n",
      "------------------------------------------------------------------------------------------------------------------------\n",
      "⚀ Outlier detection for feature avg_price :\n",
      "\n",
      "Outlier detection: Z-Score identified outliers outside of the range [4, 543]. Resulting outlier proportion: 1.26%.\n",
      "Outlier detection: Modified Z-Score identified outliers outside of the range [4, 374]. Resulting outlier proportion: 2.77%.\n",
      "Outlier detection: Isolation Forest identified outliers outside of the range [22, 190]. Resulting outlier proportion: 10.81%.\n",
      "------------------------------------------------------------------------------------------------------------------------\n",
      "⚀ Outlier detection for feature avg_saving_percent :\n",
      "\n",
      "Outlier detection: Z-Score identified outliers outside of the range [0, 46]. Resulting outlier proportion: 2.16%.\n",
      "Outlier detection: Modified Z-Score identified outliers outside of the range [0, 41]. Resulting outlier proportion: 3.27%.\n",
      "Outlier detection: Isolation Forest identified outliers outside of the range [0, 0]. Resulting outlier proportion: 39.5%.\n",
      "------------------------------------------------------------------------------------------------------------------------\n"
     ]
    }
   ],
   "source": [
    "print('Test set outliers detection:')\n",
    "print('='*30)\n",
    "for column in test_numeric_columns:\n",
    "    print('⚀ Outlier detection for feature', column, ':\\n')\n",
    "    outliers_detection(test[column].dropna())\n",
    "    print('-'*120)"
   ]
  },
  {
   "cell_type": "code",
   "execution_count": 24,
   "metadata": {},
   "outputs": [
    {
     "name": "stdout",
     "output_type": "stream",
     "text": [
      "Before outliers removal, test set has 131929 rows.\n"
     ]
    }
   ],
   "source": [
    "print('Before outliers removal, test set has',len(test),'rows.')"
   ]
  },
  {
   "cell_type": "code",
   "execution_count": 25,
   "metadata": {},
   "outputs": [
    {
     "name": "stdout",
     "output_type": "stream",
     "text": [
      "Dropping outliers where outliers proportion < 1% ...\n",
      "After outliers removal, test set has 131929 rows.\n"
     ]
    }
   ],
   "source": [
    "print('Dropping outliers where outliers proportion < 1% ...')\n",
    "for column in test_numeric_columns:\n",
    "    copy_test = drop_outliers_zscore(test, column)\n",
    "test = copy_test\n",
    "print('After outliers removal, test set has',len(test),'rows.')"
   ]
  },
  {
   "cell_type": "markdown",
   "metadata": {},
   "source": [
    "### 2.3. Feature engineering"
   ]
  },
  {
   "cell_type": "markdown",
   "metadata": {},
   "source": [
    "## 3. Exploratory data analysis\n",
    "<a id=\"eda\"></a>"
   ]
  },
  {
   "cell_type": "markdown",
   "metadata": {},
   "source": [
    "## 4. Prediction\n",
    "<a id=\"pred\"></a>"
   ]
  },
  {
   "cell_type": "markdown",
   "metadata": {},
   "source": [
    "## 5. Evaluation\n",
    "<a id=\"eval\"></a>"
   ]
  },
  {
   "cell_type": "markdown",
   "metadata": {},
   "source": [
    "## 6. Conclusion\n",
    "<a id=\"conc\"></a>"
   ]
  }
 ],
 "metadata": {
  "kernelspec": {
   "display_name": "Python 3",
   "language": "python",
   "name": "python3"
  },
  "language_info": {
   "codemirror_mode": {
    "name": "ipython",
    "version": 3
   },
   "file_extension": ".py",
   "mimetype": "text/x-python",
   "name": "python",
   "nbconvert_exporter": "python",
   "pygments_lexer": "ipython3",
   "version": "3.7.3"
  }
 },
 "nbformat": 4,
 "nbformat_minor": 2
}
